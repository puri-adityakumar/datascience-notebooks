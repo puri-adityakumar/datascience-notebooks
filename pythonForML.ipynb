{
  "nbformat": 4,
  "nbformat_minor": 0,
  "metadata": {
    "colab": {
      "provenance": [],
      "collapsed_sections": [
        "fJ3qKrNqCuly"
      ],
      "authorship_tag": "ABX9TyNuOPKZXHVPPv57j5Jn2YYV"
    },
    "kernelspec": {
      "name": "python3",
      "display_name": "Python 3"
    },
    "language_info": {
      "name": "python"
    }
  },
  "cells": [
    {
      "cell_type": "markdown",
      "source": [
        "# Python Fundamentals 🐍"
      ],
      "metadata": {
        "id": "uOU_bLC6Cocc"
      }
    },
    {
      "cell_type": "markdown",
      "source": [
        "## Basics"
      ],
      "metadata": {
        "id": "yEh4tVKIO37V"
      }
    },
    {
      "cell_type": "markdown",
      "source": [
        "### 🔑 Key Points\n",
        "\n",
        "\n",
        "*   Python always converts smaller data types to larger data types **to avoid the loss of data**.\n",
        "\n",
        "\n",
        "```\n",
        "integer_number = 123\n",
        "float_number = 1.23\n",
        "\n",
        "new_number = integer_number + float_number\n",
        "\n",
        "# display new value and resulting data type\n",
        "print(\"Value:\",new_number) ## Value: 124.23\n",
        "print(\"Data Type:\",type(new_number)) ## Data Type: <class 'float'>\n",
        "```\n",
        "\n",
        "\n",
        "*   We get **TypeError**, if we try to add str and int. For example, '12' + 23. Python is not able to use Implicit Conversion in such conditions.\n",
        "\n",
        "\n",
        "*   Explicit Type Conversion is also called Type Casting, the data types of objects are converted using predefined functions by the user. Loss of data may occur as we enforce the object to a specific data type.\n",
        "\n",
        "```\n",
        "num_string = '12'\n",
        "num_string = int(num_string)\n",
        "```\n",
        "\n",
        "\n",
        "---\n",
        "### Shorthand\n",
        "1. if shorthand\n",
        "\n",
        "\n",
        "```\n",
        "i = 10\n",
        "if i < 15: print(\"i is less than 15\")\n",
        "\n",
        "```\n",
        "\n",
        "\n",
        "2. if-else shorthand\n",
        "\n",
        "\n",
        "```\n",
        "x, y = 10, 20\n",
        "result = x if x < y else y\n",
        "print(result)  # Output: 20\n",
        "\n",
        "```\n",
        "3. One-Liner Functions\n",
        "\n",
        "```\n",
        "def sum(n1, n2): return n1+n2\n",
        "\n",
        "```\n",
        "4. Reverse a String\n",
        "\n",
        "```\n",
        "sentence = \"This is just a test\"\n",
        "print(sentence[::-1]) ## tset a tsuj si sihT\n",
        "```\n",
        "\n",
        "5.  F-Strings\n",
        "\n",
        "\n",
        "```\n",
        "name = \"Zeke\"\n",
        "print(f\"hello! {name}\")\n",
        "```\n",
        "▶ [More Shorthand](https://www.freedium.cfd/https://medium.com/geekculture/15-useful-python-shorthands-facb09740afa)\n"
      ],
      "metadata": {
        "id": "Qy3i9gBaB4-S"
      }
    },
    {
      "cell_type": "markdown",
      "source": [
        "### 🔑 Key Points\n",
        "1. In Python alias are an alternate name for referring to the same thing.\n",
        "\n",
        "\n",
        "```\n",
        "# We have declared numpy library as \"np\" her.\n",
        "import numpy as np\n",
        "```\n",
        "2. **type()** : This built-in Python function tells us the type of the object passed to it.\n"
      ],
      "metadata": {
        "id": "ZcMLm40Ffv3X"
      }
    },
    {
      "cell_type": "markdown",
      "source": [
        "## Understanding Loops using Pattern problem"
      ],
      "metadata": {
        "id": "6As51mU6Zmoo"
      }
    },
    {
      "cell_type": "markdown",
      "source": [
        "# Numy"
      ],
      "metadata": {
        "id": "fJ3qKrNqCuly"
      }
    },
    {
      "cell_type": "markdown",
      "source": [
        "## Basics"
      ],
      "metadata": {
        "id": "4uBtVNPGcjCK"
      }
    },
    {
      "cell_type": "markdown",
      "source": [
        "### What is NumPy?\n",
        "NumPy is the fundamental package for scientific computing in Python. It is a Python library that provides a multidimensional array object, various derived objects (such as masked arrays and matrices), and an assortment of routines for fast operations on arrays, including mathematical, logical, shape manipulation, sorting, selecting, I/O, discrete Fourier transforms, basic linear algebra, basic statistical operations, random simulation and much more.\n",
        "\n",
        "▶ [Documentation](https://numpy.org/doc/stable/user/whatisnumpy.html) | [Best Resource](https://www.w3schools.com/python/numpy/default.asp)\n",
        "\n",
        "### Why Use NumPy?\n",
        "\n",
        "- **Efficiency**: Traditional Python lists are slow to process. NumPy provides an array object (`ndarray`) that is up to 50x faster.\n",
        "  \n",
        "- **Enhanced Array Object**: The array object in NumPy (`ndarray`) comes with many supporting functions that make it easy to work with.\n",
        "  \n",
        "- **Data Science Applications**: Arrays are heavily used in data science, where speed and efficient use of resources are crucial.\n",
        "\n",
        "### Why is NumPy Faster Than Lists?\n",
        "- NumPy is faster than lists because its arrays are stored in a continuous block of memory, allowing efficient data access and manipulation. This memory layout, known as locality of reference, and optimizations for modern CPUs make NumPy much quicker.\n",
        "\n",
        "\n",
        "\n",
        "\n",
        "\n",
        "\n",
        "\n",
        "\n",
        "\n",
        "\n",
        "\n"
      ],
      "metadata": {
        "id": "vpipf455C9ba"
      }
    },
    {
      "cell_type": "code",
      "source": [
        "# Getting started, installation of NumPy\n",
        "\n",
        "import numpy as np\n",
        "\n",
        "print(np.__version__) # Checking NumPy Version"
      ],
      "metadata": {
        "colab": {
          "base_uri": "https://localhost:8080/"
        },
        "id": "Efe5Az5BeGD-",
        "outputId": "b70a1482-053f-4d5b-918a-c2cefe52db93"
      },
      "execution_count": null,
      "outputs": [
        {
          "output_type": "stream",
          "name": "stdout",
          "text": [
            "1.26.4\n"
          ]
        }
      ]
    },
    {
      "cell_type": "code",
      "source": [
        "arr = np.array([1, 2, 3, 4, 5])\n",
        "\n",
        "print(arr)\n",
        "print(type(arr))"
      ],
      "metadata": {
        "colab": {
          "base_uri": "https://localhost:8080/"
        },
        "id": "QfMCd_9be_jZ",
        "outputId": "4033e446-1821-4267-9d03-5163f5e4f7af"
      },
      "execution_count": null,
      "outputs": [
        {
          "output_type": "stream",
          "name": "stdout",
          "text": [
            "[1 2 3 4 5]\n",
            "<class 'numpy.ndarray'>\n"
          ]
        }
      ]
    },
    {
      "cell_type": "markdown",
      "source": [
        "### Numpy Arrays\n"
      ],
      "metadata": {
        "id": "gqmRoTjRkzsj"
      }
    },
    {
      "cell_type": "code",
      "source": [
        "# Importing NumPy library\n",
        "import numpy as np\n",
        "\n",
        "# Declaration of arrays with different dimensions\n",
        "\n",
        "arr1 = np.array(42)  # 0-D array (scalar)\n",
        "arr2 = np.array([1, 2, 3, 4, 5])  # 1-D array\n",
        "arr3 = np.array([[1, 2, 3], [4, 5, 6]])  # 2-D array\n",
        "arr4 = np.array([[[1, 2, 3], [4, 5, 6]], [[1, 2, 3], [4, 5, 6]]])  # 3-D array\n",
        "\n",
        "\n",
        "print(\"arr1 =\", arr1)  # Output: arr1 = 42 (scalar value)\n",
        "print(\"arr2 =\", arr2)  # Output: arr2 = [1 2 3 4 5] (1-D array)\n",
        "print(\"arr3 =\", arr3)  # Output: arr3 = [[1 2 3] [4 5 6]] (2-D array, matrix-like)\n",
        "print(\"arr4 =\", arr4)  # Output: arr4 = [[[1 2 3] [4 5 6]] [[1 2 3] [4 5 6]]] (3-D array)\n",
        "\n",
        "print(\"arr1.ndim =\", arr1.ndim)  # Output: arr1.ndim = 0 (scalar)\n",
        "print(\"arr2.ndim =\", arr2.ndim)  # Output: arr2.ndim = 1 (1-D array)\n",
        "print(\"arr3.ndim =\", arr3.ndim)  # Output: arr3.ndim = 2 (2-D array)\n",
        "print(\"arr4.ndim =\", arr4.ndim)  # Output: arr4.ndim = 3 (3-D array)\n"
      ],
      "metadata": {
        "id": "_hxdSJtek243"
      },
      "execution_count": null,
      "outputs": []
    },
    {
      "cell_type": "markdown",
      "source": [
        "#### Numpy Attributes\n",
        "- `ndim`: Number of dimensions of the array.\n",
        "- `shape`: Tuple indicating the number of elements along each dimension.\n",
        "- `size`: Total number of elements in the array.\n",
        "- `dtype`: Data type of the elements in the array."
      ],
      "metadata": {
        "id": "xeLfTmY3oX-H"
      }
    },
    {
      "cell_type": "code",
      "source": [
        "import numpy as np\n",
        "import math\n",
        "\n",
        "# Creating a 2-D array (3 rows and 4 columns)\n",
        "a = np.array([[1, 2, 3, 4],\n",
        "              [5, 6, 7, 8],\n",
        "              [9, 10, 11, 12]])\n",
        "\n",
        "# 1. Number of Dimensions (`ndim`):\n",
        "print(\"Number of Dimensions (ndim):\", a.ndim)  # Output: 2\n",
        "\n",
        "# 2. Shape of the Array (`shape`):\n",
        "print(\"Shape of the Array (shape):\", a.shape)  # Output: (3, 4)\n",
        "\n",
        "# 3. Total Number of Elements (`size`):\n",
        "print(\"Total Number of Elements (size):\", a.size)  # Output: 12\n",
        "\n",
        "# Confirming that the size matches the product of the shape's dimensions\n",
        "print(\"Size matches product of shape dimensions:\", a.size == math.prod(a.shape))  # Output: True\n",
        "\n",
        "# 4. Data Type of Elements (`dtype`):\n",
        "print(\"Data Type of Elements (dtype):\", a.dtype)  # Output: dtype('int64')\n"
      ],
      "metadata": {
        "colab": {
          "base_uri": "https://localhost:8080/"
        },
        "id": "rdwha-b2r-Xy",
        "outputId": "c14076ff-f90d-46d1-b0df-0555bf3bc5db"
      },
      "execution_count": null,
      "outputs": [
        {
          "output_type": "stream",
          "name": "stdout",
          "text": [
            "Number of Dimensions (ndim): 2\n",
            "Shape of the Array (shape): (3, 4)\n",
            "Total Number of Elements (size): 12\n",
            "Size matches product of shape dimensions: True\n",
            "Data Type of Elements (dtype): int64\n"
          ]
        }
      ]
    },
    {
      "cell_type": "markdown",
      "source": [
        "#### NumPy Array Copy vs View\n",
        "1. Copy:\n",
        "- Creates a new array with its own data.\n",
        "- Changes do not affect the original array.\n",
        "2. View:\n",
        "- Creates a new array that shares data with the original array.\n",
        "- Changes to the view affect the original array."
      ],
      "metadata": {
        "id": "eDye4Uk_qgJ4"
      }
    },
    {
      "cell_type": "code",
      "source": [
        "\n",
        "# Create an original array\n",
        "original_array = np.array([1, 2, 3, 4, 5])\n",
        "\n",
        "# Create a copy of the original array\n",
        "copy_array = original_array.copy()\n",
        "\n",
        "# Modifying the copy\n",
        "copy_array[0] = 10\n",
        "\n",
        "print(\"Original Array:\", original_array)  # Output: [1 2 3 4 5]\n",
        "print(\"Copy Array:\", copy_array)          # Output: [10 2 3 4 5]\n"
      ],
      "metadata": {
        "id": "HVxZ_nASrIrM"
      },
      "execution_count": null,
      "outputs": []
    },
    {
      "cell_type": "code",
      "source": [
        "import numpy as np\n",
        "\n",
        "# Create an original array\n",
        "original_array = np.array([1, 2, 3, 4, 5])\n",
        "\n",
        "# Create a view of the original array\n",
        "view_array = original_array[1:4]  # Slicing creates a view\n",
        "\n",
        "# Modifying the view\n",
        "view_array[0] = 20\n",
        "\n",
        "print(\"Original Array:\", original_array)  # Output: [ 1 20 3 4 5]\n",
        "print(\"View Array:\", view_array)          # Output: [20 3 4]\n"
      ],
      "metadata": {
        "id": "dv0MFWVkrPQt"
      },
      "execution_count": null,
      "outputs": []
    },
    {
      "cell_type": "markdown",
      "source": [
        "#### Reshaping Arrays in NumPy\n",
        "- Reshaping means changing the shape of an array, allowing you to add or remove dimensions or change the number of elements in each dimension.\n",
        "- Flattening the Arrays : converts a multidimensional array into a 1-D array, which can be done using reshape(-1):\n",
        "\n",
        "\n",
        "---\n",
        "\n",
        "▶ Can We Reshape Into Any Shape?\n",
        " - Yes, as long as the total number of elements in both shapes is equal. For example, you can reshape an 8-element 1-D array into a 2-D array with 4 elements in each of 2 rows, but not into a 3x3 array (which requires 9 elements)."
      ],
      "metadata": {
        "id": "NzIrfobgtTZh"
      }
    },
    {
      "cell_type": "code",
      "source": [
        "import numpy as np\n",
        "\n",
        "# Create a 1-D array with 12 elements\n",
        "arr = np.array([1, 2, 3, 4, 5, 6, 7, 8, 9, 10, 11, 12])\n",
        "\n",
        "reshaped_2d = arr.reshape(4, 3)\n",
        "print(\"Reshaped 2-D Array (4x3):\")\n",
        "print(reshaped_2d)\n",
        "\n",
        "\n",
        "reshaped_3d = arr.reshape(2, 3, 2)\n",
        "print(\"\\nReshaped 3-D Array (2x3x2):\")\n",
        "print(reshaped_3d)\n",
        "\n",
        "\n",
        "try:\n",
        "    invalid_reshape = arr.reshape(3, 3)  # This will cause a ValueError\n",
        "except ValueError as e:\n",
        "    print(\"\\nError while reshaping to (3, 3):\", e)\n",
        "\n",
        "flattened_array = arr.reshape(-1)\n",
        "print(\"\\nFlattened 1-D Array:\")\n",
        "print(flattened_array)\n"
      ],
      "metadata": {
        "id": "WSUHe_IVubEg"
      },
      "execution_count": null,
      "outputs": []
    },
    {
      "cell_type": "markdown",
      "source": [
        "### Some important functions in Numpy"
      ],
      "metadata": {
        "id": "MRNnF37EeLTb"
      }
    },
    {
      "cell_type": "markdown",
      "source": [
        "Here’s the information reformatted with all headings changed to h4:\n",
        "\n",
        "#### 1. **Array Creation Functions**\n",
        "- **`np.array()`**: Create an array from a list or tuple.\n",
        "- **`np.zeros()`**: Create an array filled with zeros.\n",
        "- **`np.ones()`**: Create an array filled with ones.\n",
        "- **`np.arange()`**: Create an array with a range of values (like `range()`).\n",
        "- **`np.linspace()`**: Create an array of evenly spaced values over a specified interval.\n",
        "- **`np.empty()`**: Create an array without initializing its values.\n",
        "\n",
        "#### 2. **Array Manipulation Functions**\n",
        "- **`np.reshape()`**: Change the shape of an array without changing its data.\n",
        "- **`np.concatenate()`**: Join two or more arrays along a specified axis.\n",
        "- **`np.vstack()`**: Stack arrays vertically (row-wise).\n",
        "- **`np.hstack()`**: Stack arrays horizontally (column-wise).\n",
        "- **`np.split()`**: Split an array into multiple sub-arrays.\n",
        "\n",
        "#### 3. **Mathematical Functions**\n",
        "- **`np.sum()`**: Compute the sum of array elements.\n",
        "- **`np.mean()`**: Compute the mean (average) of array elements.\n",
        "- **`np.median()`**: Compute the median of array elements.\n",
        "- **`np.std()`**: Compute the standard deviation of array elements.\n",
        "- **`np.min()` and `np.max()`**: Find the minimum and maximum values in an array.\n",
        "- **`np.abs()`**: Compute the absolute values of elements.\n",
        "\n",
        "#### 4. **Statistical Functions**\n",
        "- **`np.corrcoef()`**: Compute the correlation coefficients between two or more arrays.\n",
        "- **`np.histogram()`**: Compute the histogram of a dataset.\n",
        "- **`np.percentile()`**: Compute the nth percentile of the data.\n",
        "\n",
        "#### 5. **Linear Algebra Functions**\n",
        "- **`np.dot()`**: Dot product of two arrays.\n",
        "- **`np.linalg.inv()`**: Compute the inverse of a matrix.\n",
        "- **`np.linalg.det()`**: Compute the determinant of a matrix.\n",
        "- **`np.linalg.eig()`**: Compute the eigenvalues and right eigenvectors of a square array.\n",
        "\n",
        "#### 6. **Array Indexing and Slicing**\n",
        "- **`np.where()`**: Return indices where a condition is met.\n",
        "- **`np.nonzero()`**: Return the indices of non-zero elements in an array.\n",
        "- **`np.take()`**: Take elements from an array along an axis.\n",
        "\n",
        "#### 7. **Broadcasting Functions**\n",
        "- **`np.add()`, `np.subtract()`, `np.multiply()`, `np.divide()`**: Element-wise operations that support broadcasting.\n",
        "\n",
        "#### 8. **File Input/Output**\n",
        "- **`np.save()`**: Save an array to a binary file in `.npy` format.\n",
        "- **`np.load()`**: Load an array from a binary file in `.npy` format.\n",
        "- **`np.savetxt()`**: Save an array to a text file.\n",
        "- **`np.loadtxt()`**: Load data from a text file.\n",
        "\n",
        "#### 9. **Other Useful Functions**\n",
        "- **`np.unique()`**: Find the unique elements of an array.\n",
        "- **`np.tile()`**: Construct an array by repeating the input array.\n",
        "- **`np.repeat()`**: Repeat elements of an array.\n",
        "\n"
      ],
      "metadata": {
        "id": "hayYTiRy14pE"
      }
    }
  ]
}